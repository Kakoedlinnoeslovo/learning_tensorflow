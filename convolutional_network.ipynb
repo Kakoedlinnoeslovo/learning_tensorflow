{
 "cells": [
  {
   "cell_type": "code",
   "execution_count": 30,
   "metadata": {},
   "outputs": [],
   "source": [
    "#imports and constants\n",
    "\n",
    "import tensorflow as tf\n",
    "import numpy as np\n",
    "from tensorflow.examples.tutorials.mnist import input_data\n",
    "from tqdm import tqdm\n",
    "import matplotlib.pyplot as plt\n",
    "%matplotlib inline\n",
    "\n",
    "\n",
    "BATCH_SIZE = 128\n",
    "TEST_SIZE = 256"
   ]
  },
  {
   "cell_type": "code",
   "execution_count": 2,
   "metadata": {},
   "outputs": [
    {
     "name": "stdout",
     "output_type": "stream",
     "text": [
      "WARNING:tensorflow:From <ipython-input-2-758d5660d32f>:3: read_data_sets (from tensorflow.contrib.learn.python.learn.datasets.mnist) is deprecated and will be removed in a future version.\n",
      "Instructions for updating:\n",
      "Please use alternatives such as official/mnist/dataset.py from tensorflow/models.\n",
      "WARNING:tensorflow:From /Library/Frameworks/Python.framework/Versions/3.6/lib/python3.6/site-packages/tensorflow/contrib/learn/python/learn/datasets/mnist.py:260: maybe_download (from tensorflow.contrib.learn.python.learn.datasets.base) is deprecated and will be removed in a future version.\n",
      "Instructions for updating:\n",
      "Please write your own downloading logic.\n",
      "WARNING:tensorflow:From /Library/Frameworks/Python.framework/Versions/3.6/lib/python3.6/site-packages/tensorflow/contrib/learn/python/learn/datasets/mnist.py:262: extract_images (from tensorflow.contrib.learn.python.learn.datasets.mnist) is deprecated and will be removed in a future version.\n",
      "Instructions for updating:\n",
      "Please use tf.data to implement this functionality.\n",
      "Extracting MNIST_data/train-images-idx3-ubyte.gz\n",
      "WARNING:tensorflow:From /Library/Frameworks/Python.framework/Versions/3.6/lib/python3.6/site-packages/tensorflow/contrib/learn/python/learn/datasets/mnist.py:267: extract_labels (from tensorflow.contrib.learn.python.learn.datasets.mnist) is deprecated and will be removed in a future version.\n",
      "Instructions for updating:\n",
      "Please use tf.data to implement this functionality.\n",
      "Extracting MNIST_data/train-labels-idx1-ubyte.gz\n",
      "WARNING:tensorflow:From /Library/Frameworks/Python.framework/Versions/3.6/lib/python3.6/site-packages/tensorflow/contrib/learn/python/learn/datasets/mnist.py:110: dense_to_one_hot (from tensorflow.contrib.learn.python.learn.datasets.mnist) is deprecated and will be removed in a future version.\n",
      "Instructions for updating:\n",
      "Please use tf.one_hot on tensors.\n",
      "Extracting MNIST_data/t10k-images-idx3-ubyte.gz\n",
      "Extracting MNIST_data/t10k-labels-idx1-ubyte.gz\n",
      "WARNING:tensorflow:From /Library/Frameworks/Python.framework/Versions/3.6/lib/python3.6/site-packages/tensorflow/contrib/learn/python/learn/datasets/mnist.py:290: DataSet.__init__ (from tensorflow.contrib.learn.python.learn.datasets.mnist) is deprecated and will be removed in a future version.\n",
      "Instructions for updating:\n",
      "Please use alternatives such as official/mnist/dataset.py from tensorflow/models.\n"
     ]
    }
   ],
   "source": [
    "# getting data\n",
    "\n",
    "mnist = input_data.read_data_sets(\"MNIST_data/\", one_hot=True)\n",
    "X_train, y_train, X_test, y_test = mnist.train.images, \\\n",
    "                                   mnist.train.labels, \\\n",
    "                                   mnist.test.images, \\\n",
    "                                   mnist.test.labels\n",
    "\n",
    "X_train = X_train.reshape(-1, 28, 28, 1)\n",
    "X_test = X_test.reshape(-1, 28, 28, 1)"
   ]
  },
  {
   "cell_type": "code",
   "execution_count": 16,
   "metadata": {},
   "outputs": [],
   "source": [
    "\n",
    "def get_weights(shape):\n",
    "    return tf.Variable(tf.random_normal(shape=shape, stddev=0.01))\n",
    "\n",
    "\n",
    "def get_model_block(input_, w, keep_prob, is_final = False):\n",
    "    conv = tf.nn.conv2d(input = input_, \n",
    "                        filter = w, \n",
    "                        strides = [1,1,1,1], \n",
    "                        padding = \"SAME\")\n",
    "    \n",
    "    x = tf.nn.relu(conv)\n",
    "    \n",
    "    x = tf.nn.max_pool(x, \n",
    "                       ksize = [1,2,2,1], \n",
    "                       strides=[1,2,2,1],\n",
    "                       padding = \"SAME\")\n",
    "    \n",
    "    if not is_final:\n",
    "        x = tf.nn.dropout(x = x, keep_prob=keep_prob)\n",
    "    return x\n",
    "    \n",
    "\n",
    "def get_model(input_, keep_prob_conv, keep_prob_hidden, \n",
    "              w1, w2, w3, w4, w_o):\n",
    "    x1 = get_model_block(input_, w1, keep_prob_conv)\n",
    "    x2 = get_model_block(x1, w2, keep_prob_conv)\n",
    "    x3 = get_model_block(x2, w3, keep_prob_hidden, is_final=True)\n",
    "    \n",
    "    \n",
    "    out = tf.layers.Flatten()(x3)\n",
    "    out = tf.nn.dropout(out, keep_prob=keep_prob_conv)\n",
    "    out = tf.nn.relu(tf.matmul(out, w4))\n",
    "    out = tf.nn.dropout(out, keep_prob=keep_prob_hidden)\n",
    "    out = tf.matmul(out, w_o)\n",
    "    \n",
    "    return out\n",
    "    \n",
    "    \n",
    "def get_test(X_test, y_test, batch_size):\n",
    "    test_ind = np.arange(len(y_test))\n",
    "    np.random.shuffle(test_ind)\n",
    "    test_ind = test_ind[:batch_size]\n",
    "    return X_test[test_ind], y_test[test_ind]\n",
    "    \n",
    "    "
   ]
  },
  {
   "cell_type": "code",
   "execution_count": 22,
   "metadata": {},
   "outputs": [],
   "source": [
    "input_ = tf.placeholder(dtype = \"float\", \n",
    "                        shape = (None, 28, 28, 1), \n",
    "                        name = \"input\")\n",
    "\n",
    "labels = tf.placeholder(dtype = \"float\", \n",
    "                       shape = (None, 10),\n",
    "                       name = 'labels')\n",
    "\n",
    "w1 = get_weights(shape = (3, 3, 1, 32))\n",
    "\n",
    "w2 = get_weights(shape = (3, 3, 32, 64))\n",
    "\n",
    "w3 = get_weights(shape = (3, 3, 64, 128))\n",
    "\n",
    "w4 = get_weights(shape = (2048, 625))\n",
    "\n",
    "w_o = get_weights(shape = (625, 10))\n",
    "\n",
    "out = get_model(input_= input_, keep_prob_conv = 0.8, \n",
    "                keep_prob_hidden = 0.5,\n",
    "                  w1 = w1, \n",
    "                  w2 = w2, \n",
    "                  w3 = w3, \n",
    "                  w4 = w4,\n",
    "                  w_o = w_o)\n",
    "\n",
    "\n",
    "loss = tf.nn.softmax_cross_entropy_with_logits_v2(labels=labels, \n",
    "                                                  logits=out)\n",
    "\n",
    "cost = tf.reduce_mean(loss)\n",
    "\n",
    "train_op = tf.train.AdamOptimizer(0.001, 0.9).minimize(cost)\n",
    "\n",
    "pred_op = tf.argmax(out,  axis=1)"
   ]
  },
  {
   "cell_type": "code",
   "execution_count": 39,
   "metadata": {},
   "outputs": [],
   "source": [
    "acc_list = []\n",
    "\n",
    "with tf.Session() as sess:\n",
    "    tf.global_variables_initializer().run()\n",
    "    \n",
    "    for i in tqdm(range(10)):\n",
    "        training_batch = zip(range(0, len(X_train), BATCH_SIZE), \n",
    "                            range(BATCH_SIZE, len(y_train), BATCH_SIZE))\n",
    "\n",
    "        for start, end in training_batch:\n",
    "            sess.run(train_op, feed_dict = {input_: X_train[start:end], \n",
    "                                           labels: y_train[start:end]})\n",
    "\n",
    "        X_t, y_t = get_test(X_test, y_test, TEST_SIZE)\n",
    "        pred_val = sess.run(pred_op, \n",
    "                            feed_dict={input_: X_t, \n",
    "                                       labels: y_t})\n",
    "        \n",
    "        acc_val = np.mean(pred_val == np.argmax(y_t, 1))\n",
    "        print(\"On step {} accuracy {}\".format(i, acc_val))\n",
    "        acc_list.append(acc_val)"
   ]
  },
  {
   "cell_type": "code",
   "execution_count": 38,
   "metadata": {},
   "outputs": [
    {
     "data": {
      "image/png": "[encoded data removed]",
      "text/plain": [
       "<Figure size 432x432 with 1 Axes>"
      ]
     },
     "metadata": {
      "needs_background": "light"
     },
     "output_type": "display_data"
    }
   ],
   "source": [
    "fig = plt.figure(figsize=(6,6))\n",
    "fig = fig.suptitle(\"Accuracy of Convolution network\")\n",
    "ax = plt.subplot(111)\n",
    "ax.set_xlabel(\"n step\", fontsize = 10)\n",
    "ax.set_ylabel(\"accuracy\", fontsize = 10)\n",
    "\n",
    "plt.plot(acc_list)\n",
    "plt.grid(True)\n",
    "plt.show()"
   ]
  },
  {
   "cell_type": "code",
   "execution_count": null,
   "metadata": {},
   "outputs": [],
   "source": []
  }
 ],
 "metadata": {
  "kernelspec": {
   "display_name": "Python 3",
   "language": "python",
   "name": "python3"
  },
  "language_info": {
   "codemirror_mode": {
    "name": "ipython",
    "version": 3
   },
   "file_extension": ".py",
   "mimetype": "text/x-python",
   "name": "python",
   "nbconvert_exporter": "python",
   "pygments_lexer": "ipython3",
   "version": "3.6.6"
  }
 },
 "nbformat": 4,
 "nbformat_minor": 2
}
